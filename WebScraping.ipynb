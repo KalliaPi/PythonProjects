{
 "cells": [
  {
   "cell_type": "code",
   "execution_count": 4,
   "id": "df3230fa",
   "metadata": {},
   "outputs": [],
   "source": [
    "#Importing Libraries\n",
    "\n",
    "from bs4 import BeautifulSoup\n",
    "import requests\n",
    "import time\n",
    "import datetime\n",
    "import smtplib"
   ]
  },
  {
   "cell_type": "code",
   "execution_count": 16,
   "id": "6ffa4d75",
   "metadata": {
    "scrolled": true
   },
   "outputs": [
    {
     "name": "stdout",
     "output_type": "stream",
     "text": [
      "\n",
      "                Funny Got Data MIS Data Systems Business Analyst T-Shirt\n",
      "               \n",
      "\n",
      "               $16.99\n",
      "              \n"
     ]
    }
   ],
   "source": [
    "#Connecting to Amazon Website\n",
    "\n",
    "URL = 'https://www.amazon.com/Funny-Data-Systems-Business-Analyst/dp/B07FNW9FGJ/ref=sr_1_3?dchild=1&keywords=data%2Banalyst%2Btshirt&qid=1626655184&sr=8-3&customId=B0752XJYNL&th=1'\n",
    "headers = {\"User-Agent\": \"Mozilla/5.0 (Windows NT 10.0; Win64; x64) AppleWebKit/537.36 (KHTML, like Gecko) Chrome/78.0.3904.108 Safari/537.36\", \"Accept-Encoding\":\"gzip, deflate\", \"Accept\":\"text/html,application/xhtml+xml,application/xml;q=0.9,*/*;q=0.8\", \"DNT\":\"1\",\"Connection\":\"close\", \"Upgrade-Insecure-Requests\":\"1\"}\n",
    "\n",
    "page= requests.get(URL, headers=headers)\n",
    "\n",
    "soup1=BeautifulSoup(page.content,\"html.parser\")\n",
    "soup2=BeautifulSoup(soup1.prettify(),\"html.parser\")\n",
    "\n",
    "title=soup2.find(id=\"productTitle\").get_text()\n",
    "price = soup2.find('span', {'class':'a-offscreen'}).get_text()\n",
    "print(title)\n",
    "print(price)"
   ]
  },
  {
   "cell_type": "code",
   "execution_count": 17,
   "id": "55c2453f",
   "metadata": {},
   "outputs": [
    {
     "name": "stdout",
     "output_type": "stream",
     "text": [
      "Title is: Funny Got Data MIS Data Systems Business Analyst T-Shirt\n",
      "Price is: 16.99\n"
     ]
    }
   ],
   "source": [
    "title=title.strip()\n",
    "price=price.strip()[1:]\n",
    "print(f\"Title is: {title}\")\n",
    "print(f\"Price is: {price}\")"
   ]
  },
  {
   "cell_type": "code",
   "execution_count": 23,
   "id": "f191c6b2",
   "metadata": {},
   "outputs": [],
   "source": [
    "#Creating a file\n",
    "\n",
    "import datetime\n",
    "today=datetime.date.today()\n",
    "\n",
    "import csv\n",
    "header=[\"Title\",\"Price\",\"Date\"]\n",
    "data=[title, price, today]\n",
    "\n",
    "#with open(\"AmazonWebScraping.csv\",\"w\", newline=\"\", encoding=\"UTF8\") as f:              #Running this again will delete the Data\n",
    "    #writer=csv.writer(f)\n",
    "    #writer.writerow(header)\n",
    "    #writer.writerow(data)"
   ]
  },
  {
   "cell_type": "code",
   "execution_count": 31,
   "id": "4fae04d3",
   "metadata": {},
   "outputs": [
    {
     "name": "stdout",
     "output_type": "stream",
     "text": [
      "                                               Title  Price        Date\n",
      "0  Funny Got Data MIS Data Systems Business Analy...  16.99  2023-02-13\n",
      "1  Funny Got Data MIS Data Systems Business Analy...  16.99  2023-02-13\n",
      "2  Funny Got Data MIS Data Systems Business Analy...  16.99  2023-02-13\n"
     ]
    }
   ],
   "source": [
    "#Reading the file\n",
    "\n",
    "import pandas as pd\n",
    "df=pd.read_csv(r\"C:\\Users\\kalli\\AmazonWebScraping.csv\")\n",
    "print(df)"
   ]
  },
  {
   "cell_type": "code",
   "execution_count": 30,
   "id": "671a90ed",
   "metadata": {},
   "outputs": [],
   "source": [
    "#Appending on file\n",
    "\n",
    "with open(\"AmazonWebScraping.csv\", \"a+\", newline=\"\", encoding=\"UTF8\") as f:\n",
    "    writer=csv.writer(f)\n",
    "    writer.writerow(data)"
   ]
  },
  {
   "cell_type": "code",
   "execution_count": 34,
   "id": "e4750e10",
   "metadata": {},
   "outputs": [],
   "source": [
    "def price_check():\n",
    "    URL = 'https://www.amazon.com/Funny-Data-Systems-Business-Analyst/dp/B07FNW9FGJ/ref=sr_1_3?dchild=1&keywords=data%2Banalyst%2Btshirt&qid=1626655184&sr=8-3&customId=B0752XJYNL&th=1'\n",
    "    headers = {\"User-Agent\": \"Mozilla/5.0 (Windows NT 10.0; Win64; x64) AppleWebKit/537.36 (KHTML, like Gecko) Chrome/78.0.3904.108 Safari/537.36\", \"Accept-Encoding\":\"gzip, deflate\", \"Accept\":\"text/html,application/xhtml+xml,application/xml;q=0.9,*/*;q=0.8\", \"DNT\":\"1\",\"Connection\":\"close\", \"Upgrade-Insecure-Requests\":\"1\"}\n",
    "\n",
    "    page= requests.get(URL, headers=headers)\n",
    "\n",
    "    soup1=BeautifulSoup(page.content,\"html.parser\")\n",
    "    soup2=BeautifulSoup(soup1.prettify(),\"html.parser\")\n",
    "\n",
    "    title=soup2.find(id=\"productTitle\").get_text()\n",
    "    price = soup2.find('span', {'class':'a-offscreen'}).get_text()\n",
    "\n",
    "    title=title.strip()\n",
    "    price=price.strip()[1:]\n",
    "    \n",
    "    import datetime\n",
    "    today=datetime.date.today()\n",
    "\n",
    "    import csv\n",
    "    header=[\"Title\",\"Price\",\"Date\"]\n",
    "    data=[title, price, today]\n",
    "    \n",
    "    with open(\"AmazonWebScraping.csv\", \"a+\", newline=\"\", encoding=\"UTF8\") as f:\n",
    "        writer=csv.writer(f)\n",
    "        writer.writerow(data)\n",
    "    "
   ]
  },
  {
   "cell_type": "code",
   "execution_count": null,
   "id": "5ab62671",
   "metadata": {},
   "outputs": [],
   "source": [
    "#Checking price every 24 hours using Time library\n",
    "\n",
    "while (True):\n",
    "    price_check()\n",
    "    time.sleep(86400)"
   ]
  },
  {
   "cell_type": "code",
   "execution_count": null,
   "id": "a81f1925",
   "metadata": {},
   "outputs": [],
   "source": [
    "#Result\n",
    "\n",
    "import pandas as pd\n",
    "df=pd.read_csv(r\"C:\\Users\\kalli\\AmazonWebScraping.csv\")\n",
    "print(df)"
   ]
  }
 ],
 "metadata": {
  "kernelspec": {
   "display_name": "Python 3 (ipykernel)",
   "language": "python",
   "name": "python3"
  },
  "language_info": {
   "codemirror_mode": {
    "name": "ipython",
    "version": 3
   },
   "file_extension": ".py",
   "mimetype": "text/x-python",
   "name": "python",
   "nbconvert_exporter": "python",
   "pygments_lexer": "ipython3",
   "version": "3.9.13"
  }
 },
 "nbformat": 4,
 "nbformat_minor": 5
}
